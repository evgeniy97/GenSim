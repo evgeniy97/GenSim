{
 "cells": [
  {
   "cell_type": "code",
   "execution_count": 37,
   "metadata": {},
   "outputs": [],
   "source": [
    "import numpy as np\n",
    "from Bio import Phylo\n",
    "from scipy.special import comb\n",
    "from utilities import *\n",
    "\n",
    "np.random.seed(42)"
   ]
  },
  {
   "cell_type": "code",
   "execution_count": 38,
   "metadata": {},
   "outputs": [
    {
     "ename": "SyntaxError",
     "evalue": "invalid syntax (<ipython-input-38-845a116f40fe>, line 23)",
     "output_type": "error",
     "traceback": [
      "\u001b[0;36m  File \u001b[0;32m\"<ipython-input-38-845a116f40fe>\"\u001b[0;36m, line \u001b[0;32m23\u001b[0m\n\u001b[0;31m    name =\u001b[0m\n\u001b[0m           ^\u001b[0m\n\u001b[0;31mSyntaxError\u001b[0m\u001b[0;31m:\u001b[0m invalid syntax\n"
     ]
    }
   ],
   "source": [
    "class GenSimulator():\n",
    "    \"\"\"\n",
    "    Base class that provide simulation for one genom\n",
    "    \"\"\"\n",
    "    def __init__(self, number_of_descendants: int, \n",
    "                 population_size_over_time: int,\n",
    "                 mutation_rate: int,\n",
    "                 lambda_distributation):\n",
    "        self.descendants = number_of_descendants\n",
    "        self.lambda_distributation = lambda_distributation\n",
    "        self.population_size_over_time = population_size_over_time\n",
    "        self.mutation_rate = mutation_rate\n",
    "        \n",
    "        self.poisson_rate = number_of_descendants*mutation_rate + comb(number_of_descendants,2)/lambda_distributation(0)\n",
    "        \n",
    "        self.current_population = {}\n",
    "        self.tree = None\n",
    "        self.table = None\n",
    "    \n",
    "    \n",
    "    def init_population(self):\n",
    "        for i in range(self.descendants):\n",
    "            name = generate_name()\n",
    "            while name in self.current_population.keys(): name = generate_name()\n",
    "            self.current_population[name] = \"{}:{}\".format(name, '{}')\n",
    "            \n",
    "    def do_event(self, event_type, *args):\n",
    "        if event_type == 'coalescence':\n",
    "            self.do_coalescence(*args)\n",
    "        elif event_type = 'mutation':\n",
    "            self.do_mutation(*args)\n",
    "        else:\n",
    "            raise 'Type not in list'\n",
    "    \n",
    "    def do_coalescence(self, current_linage_number, t, delta_t):\n",
    "        name_1 = np.random.choice(self.current_population)\n",
    "        name_2 = np.random.choice(self.current_population)\n",
    "        while name_1 = name_2: name_2 = np.random.choice(self.current_population)\n",
    "        left = self.current_population.pop(name_1)\n",
    "        right = self.current_population.pop(name_2)\n",
    "        new_name = '{}_{}'.format(name_1, name_2)\n",
    "        new_branch = '(' + left + ',' + right + ')'\n",
    "        self.current_population[new_name] =  new_branch.format(delta_t)\n",
    "        self.poisson_rate = (current_linage_number-1)*mutation_rate + comb(current_linage_number-1,2)/lambda_distributation(t)\n",
    "    \n",
    "    def do_mutation(self, current_linage_number, t, delta_t):\n",
    "        position = np.random.uniform()\n",
    "        while position in self.table.keys: position = np.random.uniform()\n",
    "        name = np.random.choice(self.current_population)\n",
    "        self.table[position] = name\n",
    "        \n",
    "    def generate(self):\n",
    "        t = 0\n",
    "        i = 0\n",
    "        current_limit = self.population_size_over_time[i]\n",
    "        current_linage_number = self.number_of_descendants\n",
    "        \n",
    "        while current_linage_number > 1:\n",
    "            generated_t = np.random.poisson(self.poisson_rate)\n",
    "            if generated_t > current_limit:\n",
    "                # Nothing happens in this intervals\n",
    "                i = i + 1\n",
    "                t = current_limit\n",
    "                current_limit = self.population_size_over_time[i]\n",
    "                self.poisson_rate = current_linage_number*mutation_rate + comb(current_linage_number,2)/lambda_distributation(t)\n",
    "                continue\n",
    "            else:\n",
    "                t = t + generated_t\n",
    "                # Chose what happens - mutation or coalesent\n",
    "                event_type = np.random.choice(\n",
    "                    ['coalescence', 'mutation'],\n",
    "                    p=[current_linage_number*mutation_rate,\n",
    "                       comb(current_linage_number,2)/lambda_distributation(t)]\n",
    "                )\n",
    "                self.do_event(event_type, current_linage_number, t, generated_t)\n",
    "                current_linage_number = len(self.current_population)\n",
    "        for tree in self.current_population.values():\n",
    "            self.tree = tree\n",
    "    \n",
    "    def __call__(self):\n",
    "        if self.tree is None or self.table is None:\n",
    "            raise \"Firstly need to be generated\"\n",
    "        return self.tree, self.table\n",
    "    "
   ]
  },
  {
   "cell_type": "code",
   "execution_count": 53,
   "metadata": {},
   "outputs": [],
   "source": [
    "a = {}"
   ]
  },
  {
   "cell_type": "code",
   "execution_count": 54,
   "metadata": {},
   "outputs": [
    {
     "data": {
      "text/plain": [
       "{'q': 1}"
      ]
     },
     "execution_count": 54,
     "metadata": {},
     "output_type": "execute_result"
    }
   ],
   "source": [
    "name = 'q'\n",
    "if name not in a.keys():\n",
    "    a[name] = 1\n",
    "a"
   ]
  },
  {
   "cell_type": "code",
   "execution_count": 50,
   "metadata": {},
   "outputs": [
    {
     "data": {
      "text/plain": [
       "'a:{}'"
      ]
     },
     "execution_count": 50,
     "metadata": {},
     "output_type": "execute_result"
    }
   ],
   "source": [
    "'{}:{}'.format('a', '{}')"
   ]
  },
  {
   "cell_type": "code",
   "execution_count": 51,
   "metadata": {},
   "outputs": [
    {
     "data": {
      "text/plain": [
       "1"
      ]
     },
     "execution_count": 51,
     "metadata": {},
     "output_type": "execute_result"
    }
   ],
   "source": [
    "a.pop('q')"
   ]
  },
  {
   "cell_type": "code",
   "execution_count": 64,
   "metadata": {},
   "outputs": [
    {
     "name": "stdout",
     "output_type": "stream",
     "text": [
      "1\n"
     ]
    }
   ],
   "source": [
    "for d in a.values(): print(d)"
   ]
  },
  {
   "cell_type": "code",
   "execution_count": null,
   "metadata": {},
   "outputs": [],
   "source": []
  }
 ],
 "metadata": {
  "kernelspec": {
   "display_name": "Python 3",
   "language": "python",
   "name": "python3"
  },
  "language_info": {
   "codemirror_mode": {
    "name": "ipython",
    "version": 3
   },
   "file_extension": ".py",
   "mimetype": "text/x-python",
   "name": "python",
   "nbconvert_exporter": "python",
   "pygments_lexer": "ipython3",
   "version": "3.7.4"
  }
 },
 "nbformat": 4,
 "nbformat_minor": 4
}
