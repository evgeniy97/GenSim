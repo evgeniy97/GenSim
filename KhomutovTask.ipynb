{
 "cells": [
  {
   "cell_type": "code",
   "execution_count": 28,
   "metadata": {},
   "outputs": [],
   "source": [
    "import numpy as np\n",
    "from Bio import Phylo\n",
    "from scipy.special import comb\n",
    "\n",
    "np.random.seed(42)"
   ]
  },
  {
   "cell_type": "code",
   "execution_count": 15,
   "metadata": {},
   "outputs": [],
   "source": [
    "class GenSimulator():\n",
    "    \"\"\"\n",
    "    Base class that provide simulation for one genom\n",
    "    \"\"\"\n",
    "    def __init__(self, number_of_descendants: int, \n",
    "                 population_size_over_time: int,\n",
    "                 mutation_rate: int,\n",
    "                 lambda_distributation):\n",
    "        self.descendants = number_of_descendants\n",
    "        self.lambda_distributation = lambda_distributation\n",
    "        self.population_size_over_time = population_size_over_time\n",
    "        self.mutation_rate = mutation_rate\n",
    "        \n",
    "        self.poisson_rate = number_of_descendants*mutation_rate + comb(number_of_descendants,2)/lambda_distributation(0)\n",
    "        \n",
    "        self.tree = None\n",
    "        self.table = None\n",
    "        \n",
    "    def do_event(self, event_type, *args):\n",
    "        if event_type == 'coalescence':\n",
    "            self.do_coalescence(*args)\n",
    "        elif event_type = 'mutation':\n",
    "            self.do_mutation(*args)\n",
    "        else:\n",
    "            raise 'Type not in list'\n",
    "    \n",
    "    def do_coalescence(self, current_linage_number):\n",
    "        # Coalescence fill in self.tree\n",
    "        # update poison_rate\n",
    "        pass\n",
    "    \n",
    "    def.do_mutation(self, current_linage_number):\n",
    "        # Mutation fill in self.table\n",
    "        # Trouble with descendants\n",
    "        pass\n",
    "    \n",
    "    def generate(self):\n",
    "        t = 0\n",
    "        i = 0\n",
    "        current_limit = self.population_size_over_time[i]\n",
    "        current_linage_number = self.number_of_descendants\n",
    "        \n",
    "        while current_linage_number > 1:\n",
    "            generated_t = np.random.poisson(self.poisson_rate)\n",
    "            if generated_t > current_limit:\n",
    "                # Nothing happens in this intervals\n",
    "                i = i + 1\n",
    "                current_limit = self.population_size_over_time[i]\n",
    "                self.poisson_rate = number_of_descendants*mutation_rate + comb(number_of_descendants,2)/lambda_distributation(t)\n",
    "                continue\n",
    "            else:\n",
    "                # Chose what happens - mutation or coalesent\n",
    "                event_type = np.random.choice(\n",
    "                    ['coalescence', 'mutation'],\n",
    "                    p=[current_linage_number*mutation_rate,\n",
    "                       comb(current_linage_number,2)/lambda_distributation(t)]\n",
    "                )\n",
    "                self.do_event(event_type, current_linage_number)\n",
    "    \n",
    "    def __call__(self):\n",
    "        if self.tree is None or self.table is None:\n",
    "            raise \"Firstly need to be generated\"\n",
    "        return self.tree, self.table\n",
    "    "
   ]
  },
  {
   "cell_type": "code",
   "execution_count": null,
   "metadata": {},
   "outputs": [],
   "source": []
  },
  {
   "cell_type": "code",
   "execution_count": null,
   "metadata": {},
   "outputs": [],
   "source": []
  },
  {
   "cell_type": "code",
   "execution_count": null,
   "metadata": {},
   "outputs": [],
   "source": []
  },
  {
   "cell_type": "code",
   "execution_count": null,
   "metadata": {},
   "outputs": [],
   "source": []
  }
 ],
 "metadata": {
  "kernelspec": {
   "display_name": "Python 3",
   "language": "python",
   "name": "python3"
  },
  "language_info": {
   "codemirror_mode": {
    "name": "ipython",
    "version": 3
   },
   "file_extension": ".py",
   "mimetype": "text/x-python",
   "name": "python",
   "nbconvert_exporter": "python",
   "pygments_lexer": "ipython3",
   "version": "3.7.4"
  }
 },
 "nbformat": 4,
 "nbformat_minor": 4
}
